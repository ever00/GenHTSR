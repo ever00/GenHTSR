{
 "cells": [
  {
   "cell_type": "code",
   "execution_count": null,
   "metadata": {},
   "outputs": [],
   "source": [
    "import matplotlib.pyplot as plt\n",
    "import numpy as np\n",
    "import random\n",
    "import os\n",
    "\n",
    "from torchvision import datasets, transforms\n",
    "from PIL import Image, ImageDraw, ImageFont"
   ]
  },
  {
   "cell_type": "code",
   "execution_count": 2,
   "metadata": {},
   "outputs": [],
   "source": [
    "def get_MNIST_data():\n",
    "    '''\n",
    "    Download, load and shuffle MNIST data\n",
    "    '''\n",
    "    # Load MNIST data\n",
    "    transform = transforms.Compose([transforms.ToTensor(), transforms.Normalize((0.5,), (0.5,))])\n",
    "    train_dataset = datasets.MNIST(root='./data', train=True, transform=transform, download=False)\n",
    "    test_dataset = datasets.MNIST(root='./data', train=False, transform=transform, download=False)\n",
    "\n",
    "    # Shuffle train dataset\n",
    "    train_indices = list(range(len(train_dataset)))\n",
    "    random.shuffle(train_indices)\n",
    "    train_dataset = [train_dataset[i] for i in train_indices]\n",
    "\n",
    "    # Shuffle test dataset\n",
    "    test_indices = list(range(len(test_dataset)))\n",
    "    random.shuffle(test_indices)\n",
    "    test_dataset = [test_dataset[i] for i in test_indices]\n",
    "\n",
    "    # Print number of training and testing samples\n",
    "    print(f\"Training Data: {len(train_dataset)} samples\")\n",
    "    print(f\"Test Data: {len(test_dataset)} samples\")\n",
    "\n",
    "    return train_dataset, test_dataset"
   ]
  },
  {
   "cell_type": "code",
   "execution_count": 4,
   "metadata": {},
   "outputs": [
    {
     "name": "stdout",
     "output_type": "stream",
     "text": [
      "Training Data: 60000 samples\n",
      "Test Data: 10000 samples\n"
     ]
    }
   ],
   "source": [
    "train_dataset, test_dataset = get_MNIST_data()"
   ]
  },
  {
   "cell_type": "code",
   "execution_count": 3,
   "metadata": {},
   "outputs": [],
   "source": [
    "def create_data(image, label):\n",
    "    '''\n",
    "    Create synthetic palimpsest data with MNIST as under-text and random characters as over-text\n",
    "    '''\n",
    "    # Invert image\n",
    "    image = 1 - image \n",
    "\n",
    "    # Rotate image\n",
    "    image = transforms.ToPILImage()(image)\n",
    "    undertext_image = image.rotate(random.uniform(-20, 20), resample=Image.BICUBIC, fillcolor=255)\n",
    "    save_undertext_mask = undertext_image.copy()\n",
    "    \n",
    "    # Set light tan-yellowish-beige color for parchment-like background \n",
    "    base_color = np.random.randint(200, 230, size=3) \n",
    "    base_color[0] = np.random.randint(200, 250)  \n",
    "    base_color[1] = np.random.randint(220, 230) \n",
    "    base_color[2] = np.random.randint(150, 190)\n",
    "\n",
    "    # Create background\n",
    "    background_img = Image.new('RGB', (28, 28), color=tuple(base_color)) \n",
    "\n",
    "    # Set a random dark gray color for the numbers\n",
    "    number_text_color = np.random.randint(0, 50)  \n",
    "    RGB_text_color = np.array([number_text_color, number_text_color, number_text_color]) \n",
    "\n",
    "    # Introduce alpha for preserving color intensity (lighter edges, introduce transparency)\n",
    "    alpha = ((255 - np.array(undertext_image)[0:28, 0:28]) / 255.0)[:, :, None]\n",
    "\n",
    "    # Blend the random color with the intensity information (background + transparent background + dark digits)\n",
    "    img_arr = (RGB_text_color * alpha + np.array(background_img)[0:28, 0:28] * (1 - alpha))\n",
    "\n",
    "    # Set a random letter from the Latin alphabet to use as over-text\n",
    "    random_letter = random.choice('ABCDEFGHIJKLMNOPQRSTUVWXYZ')\n",
    "    \n",
    "    # Set a random font for the over-text\n",
    "    fonts_dir = r\"C:\\Windows\\Fonts\"\n",
    "    font_files = [f for f in os.listdir(fonts_dir) if f.endswith('.ttf') or f.endswith('.otf')]\n",
    "    selected_font = random.choice(font_files)\n",
    "    font_path = os.path.join(r\"C:\\Windows\\Fonts\", selected_font)\n",
    "\n",
    "    # Set a random font size between 20 and 30 and a random text color\n",
    "    font_size = random.randint(20, 25)\n",
    "    letter_text_color = np.random.randint(0, 50)\n",
    "    font = ImageFont.truetype(font_path, font_size)\n",
    "\n",
    "    # Place the character in the middle of the image\n",
    "    undertext_image = Image.fromarray(img_arr.astype(np.uint8))\n",
    "    draw = ImageDraw.Draw(undertext_image)\n",
    "    bbox = draw.textbbox((0, 0), random_letter, font=font)\n",
    "    letter_width = bbox[2] - bbox[0]\n",
    "    letter_height = bbox[3] - bbox[1]\n",
    "    x = (28 - letter_width) // 2\n",
    "    y = (28 - letter_height) // 2\n",
    "    \n",
    "    # Add the selected character to transparent background\n",
    "    top_img = Image.new(\"RGBA\", undertext_image.size, (255, 255, 255, 0))\n",
    "    text_draw = ImageDraw.Draw(top_img)\n",
    "    text_draw.text((x, y), random_letter, font=font, fill=(letter_text_color, letter_text_color, letter_text_color, 255))\n",
    "\n",
    "    # Rotate the character\n",
    "    top_rotated = top_img.rotate(random.uniform(-20, 20), resample=Image.BICUBIC, center=(x, y))\n",
    "\n",
    "    # Add the over-text to the background+under-text image\n",
    "    undertext_image.paste(top_rotated, (0, 0), top_rotated)\n",
    "\n",
    "    # Add random noise\n",
    "    noise_strength = np.random.randint(1, 10)\n",
    "    noise = np.random.randint(-noise_strength, noise_strength, size=(28,28,3))\n",
    "    combined_img = np.clip(undertext_image + noise, 0, 255) \n",
    "    combined_img = Image.fromarray(combined_img.astype(np.uint8))\n",
    "\n",
    "    return combined_img, save_undertext_mask, label"
   ]
  },
  {
   "cell_type": "code",
   "execution_count": null,
   "metadata": {},
   "outputs": [],
   "source": [
    "dataset = train_dataset #\"test_dataset\"\n",
    "dataset_name = \"train\" #\"test\"\n",
    "# data = [] # For plotting created data samples\n",
    "\n",
    "for i, (image, label) in enumerate(dataset):\n",
    "\n",
    "    combined_img, undertext_image, label = create_data(image, label)\n",
    "\n",
    "    #if i < 50: # For plotting created data samples\n",
    "    #    data.append((combined_img, undertext_image, label))\n",
    "\n",
    "    new_filename = f\"{dataset_name}_idx{i}_label{label}.png\"\n",
    "\n",
    "    base_dir = fr\"...\\synthetic_data\\MNIST\\{dataset_name}\"\n",
    "\n",
    "    combined_path = os.path.join(base_dir, \"combined\", new_filename)\n",
    "    under_path = os.path.join(base_dir, \"undertext\", new_filename)\n",
    "\n",
    "    os.makedirs(os.path.dirname(combined_path), exist_ok=True)\n",
    "    os.makedirs(os.path.dirname(under_path), exist_ok=True)\n",
    "\n",
    "    combined_img.save(combined_path)\n",
    "    undertext_image.save(under_path)"
   ]
  },
  {
   "cell_type": "code",
   "execution_count": null,
   "metadata": {},
   "outputs": [],
   "source": [
    "'''\n",
    "Tuning data creation for AttentionHTR only using train_dataset for train and test\n",
    "'''\n",
    "for i, (image, label) in enumerate(train_dataset):\n",
    "    _, undertext_image, label = create_data(image, label)\n",
    "\n",
    "    if i < 51000:\n",
    "        new_filename = f\"train_idx{i}_label{label}.png\"\n",
    "        base_dir = fr\"...\\synthetic_data\\AttentionHTR_MNIST\\train\"\n",
    "    else:\n",
    "        new_filename = f\"test_idx{i}_label{label}.png\"\n",
    "        base_dir = fr\"...\\synthetic_data\\AttentionHTR_MNIST\\test\"\n",
    "\n",
    "    path = os.path.join(base_dir, new_filename)\n",
    "    os.makedirs(os.path.dirname(path), exist_ok=True)\n",
    "    undertext_image.save(path)"
   ]
  },
  {
   "cell_type": "code",
   "execution_count": 12,
   "metadata": {},
   "outputs": [],
   "source": [
    "def plot_MNIST(dataset, idx1, idx2, idx3):\n",
    "    '''\n",
    "    Plot MNIST examples\n",
    "    '''\n",
    "    # Fetch the data (image, label) from dataset\n",
    "    image_1, label_1 = dataset[idx1]\n",
    "    image_2, label_2 = dataset[idx2]\n",
    "    image_3, label_3 = dataset[idx3]\n",
    "\n",
    "    # Create and show plot\n",
    "    plt.figure(figsize=(3, 9))\n",
    "    plt.subplot(1, 3, 1)\n",
    "    plt.imshow(image_1.squeeze(), cmap='gray')\n",
    "    plt.title(f\"Label: {label_1}\")\n",
    "    plt.axis('off')\n",
    "    plt.subplot(1, 3, 2)\n",
    "    plt.imshow(image_2.squeeze(), cmap='gray')\n",
    "    plt.title(f\"Label: {label_2}\")\n",
    "    plt.axis('off')\n",
    "    plt.subplot(1, 3, 3)\n",
    "    plt.imshow(image_3.squeeze(), cmap='gray')\n",
    "    plt.title(f\"Label: {label_3}\")\n",
    "    plt.axis('off')\n",
    "    plt.tight_layout()\n",
    "    plt.show()"
   ]
  },
  {
   "cell_type": "code",
   "execution_count": 9,
   "metadata": {},
   "outputs": [
    {
     "data": {
      "image/png": "[encoded data removed]",
      "text/plain": [
       "<Figure size 300x900 with 3 Axes>"
      ]
     },
     "metadata": {},
     "output_type": "display_data"
    }
   ],
   "source": [
    "plot_MNIST(train_dataset, idx1=1, idx2=2, idx3=3)"
   ]
  },
  {
   "cell_type": "code",
   "execution_count": 26,
   "metadata": {},
   "outputs": [],
   "source": [
    "def plot_synthetic_MNIST(data, idx1, idx2, idx3):\n",
    "    '''\n",
    "    Plot synthetic MNIST examples\n",
    "    '''\n",
    "    # Fetch the data (undertext_image, combined_img, label) from dataset\n",
    "    image_1, undertext_1, label_1 = data[idx1]\n",
    "    image_2, undertext_2, label_2 = data[idx2]\n",
    "    image_3, undertext_3, label_3 = data[idx3]\n",
    "\n",
    "    plt.figure(figsize=(6, 3))\n",
    "    plt.subplot(2, 3, 1)\n",
    "    plt.imshow(image_1)\n",
    "    plt.title(f\"Combined Image\")\n",
    "    plt.axis('off')\n",
    "    plt.subplot(2, 3, 2)\n",
    "    plt.imshow(image_2)\n",
    "    plt.title(f\"Combined Image\")\n",
    "    plt.axis('off')\n",
    "    plt.subplot(2, 3, 3)\n",
    "    plt.imshow(image_3)\n",
    "    plt.title(f\"Combined Image\")\n",
    "    plt.axis('off')\n",
    "    plt.subplot(2, 3, 4)\n",
    "    plt.imshow(undertext_1, cmap=\"gray\")\n",
    "    plt.title(f\"Label: {label_1}\")\n",
    "    plt.axis('off')\n",
    "    plt.subplot(2, 3, 5)\n",
    "    plt.imshow(undertext_2, cmap=\"gray\")\n",
    "    plt.title(f\"Label: {label_2}\")\n",
    "    plt.axis('off')\n",
    "    plt.subplot(2, 3, 6)\n",
    "    plt.imshow(undertext_3, cmap=\"gray\")\n",
    "    plt.title(f\"Label: {label_3}\")\n",
    "    plt.axis('off')\n",
    "    plt.tight_layout()\n",
    "    plt.show()"
   ]
  },
  {
   "cell_type": "code",
   "execution_count": null,
   "metadata": {},
   "outputs": [
    {
     "data": {
      "image/png": "[encoded data removed]",
      "text/plain": [
       "<Figure size 600x300 with 6 Axes>"
      ]
     },
     "metadata": {},
     "output_type": "display_data"
    }
   ],
   "source": [
    "# Need to collect \"data\" as a list with [(combined_img, undertext_img, label), ...] during data creation, commented out lines above\n",
    "plot_synthetic_MNIST(data, 3, 13, 14) #3 13"
   ]
  }
 ],
 "metadata": {
  "kernelspec": {
   "display_name": "torchenv",
   "language": "python",
   "name": "python3"
  },
  "language_info": {
   "codemirror_mode": {
    "name": "ipython",
    "version": 3
   },
   "file_extension": ".py",
   "mimetype": "text/x-python",
   "name": "python",
   "nbconvert_exporter": "python",
   "pygments_lexer": "ipython3",
   "version": "3.12.3"
  }
 },
 "nbformat": 4,
 "nbformat_minor": 2
}
